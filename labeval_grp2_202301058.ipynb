{
  "nbformat": 4,
  "nbformat_minor": 0,
  "metadata": {
    "colab": {
      "provenance": [],
      "authorship_tag": "ABX9TyNMdOeL76K5JPMVyDjw8GmQ",
      "include_colab_link": true
    },
    "kernelspec": {
      "name": "python3",
      "display_name": "Python 3"
    },
    "language_info": {
      "name": "python"
    }
  },
  "cells": [
    {
      "cell_type": "markdown",
      "metadata": {
        "id": "view-in-github",
        "colab_type": "text"
      },
      "source": [
        "<a href=\"https://colab.research.google.com/github/shilvi53/BigDataAnalysis/blob/main/labeval_grp2_202301058.ipynb\" target=\"_parent\"><img src=\"https://colab.research.google.com/assets/colab-badge.svg\" alt=\"Open In Colab\"/></a>"
      ]
    },
    {
      "cell_type": "code",
      "source": [
        "\n",
        "import numpy as np\n",
        "array= np.array([10,52,62,16,16,54,453])\n",
        "y= np.sort(array)\n",
        "print(\"sorted array:\",y)"
      ],
      "metadata": {
        "colab": {
          "base_uri": "https://localhost:8080/"
        },
        "id": "mdnSidm1XV77",
        "outputId": "d919b302-85e5-4684-fa88-57606514b95d"
      },
      "execution_count": 4,
      "outputs": [
        {
          "output_type": "stream",
          "name": "stdout",
          "text": [
            "sorted array: [ 10  16  16  52  54  62 453]\n"
          ]
        }
      ]
    },
    {
      "cell_type": "code",
      "source": [
        "import numpy as np\n",
        "array= np.array([10,52,62,16,16,54,453])\n",
        "print(np.argsort(array))\n"
      ],
      "metadata": {
        "colab": {
          "base_uri": "https://localhost:8080/"
        },
        "id": "aVB_DGiSYG98",
        "outputId": "56a8b0ec-f126-4c5c-a996-b850034674b2"
      },
      "execution_count": 6,
      "outputs": [
        {
          "output_type": "stream",
          "name": "stdout",
          "text": [
            "[0 3 4 1 5 2 6]\n"
          ]
        }
      ]
    },
    {
      "cell_type": "code",
      "source": [
        "import numpy as np\n",
        "\n",
        "array= np.array([10,52,62,16,16,54,453])\n",
        "y= np.sort(array)\n",
        "print(\"4 smallest elements:\",y[:4])\n"
      ],
      "metadata": {
        "colab": {
          "base_uri": "https://localhost:8080/"
        },
        "id": "6cD-dpaJZOQP",
        "outputId": "4a300ef4-ad7d-4491-9b1e-7580c0fdb7bc"
      },
      "execution_count": 7,
      "outputs": [
        {
          "output_type": "stream",
          "name": "stdout",
          "text": [
            "4 smallest elements: [10 16 16 52]\n"
          ]
        }
      ]
    },
    {
      "cell_type": "code",
      "source": [
        "import numpy as np\n",
        "\n",
        "array= np.array([10,52,62,16,16,54,453])\n",
        "y= np.sort(array)\n",
        "print(\"5 largest  elements:\",y[-5:])"
      ],
      "metadata": {
        "colab": {
          "base_uri": "https://localhost:8080/"
        },
        "id": "vKzeaf-6ZiP5",
        "outputId": "471ac5fb-49b6-4d94-c4fa-4e54aabe1827"
      },
      "execution_count": 9,
      "outputs": [
        {
          "output_type": "stream",
          "name": "stdout",
          "text": [
            "5 largest  elements: [ 16  52  54  62 453]\n"
          ]
        }
      ]
    }
  ]
}
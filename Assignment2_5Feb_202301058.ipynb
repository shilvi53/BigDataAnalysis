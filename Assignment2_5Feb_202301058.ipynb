{
  "nbformat": 4,
  "nbformat_minor": 0,
  "metadata": {
    "colab": {
      "provenance": [],
      "authorship_tag": "ABX9TyOwWFefRRgaDdqthFZVntlr",
      "include_colab_link": true
    },
    "kernelspec": {
      "name": "python3",
      "display_name": "Python 3"
    },
    "language_info": {
      "name": "python"
    }
  },
  "cells": [
    {
      "cell_type": "markdown",
      "metadata": {
        "id": "view-in-github",
        "colab_type": "text"
      },
      "source": [
        "<a href=\"https://colab.research.google.com/github/shilvi53/BigDataAnalysis/blob/main/Assignment2_5Feb_202301058.ipynb\" target=\"_parent\"><img src=\"https://colab.research.google.com/assets/colab-badge.svg\" alt=\"Open In Colab\"/></a>"
      ]
    },
    {
      "cell_type": "code",
      "execution_count": 1,
      "metadata": {
        "colab": {
          "base_uri": "https://localhost:8080/"
        },
        "id": "uETe55LjrrkA",
        "outputId": "4251ada2-3d9e-47a3-a215-a3310d4e13f7"
      },
      "outputs": [
        {
          "output_type": "stream",
          "name": "stdout",
          "text": [
            "[5 4 6 3 2 1]\n"
          ]
        }
      ],
      "source": [
        "import numpy as np\n",
        "arr1 = np.array([1, 2, 3, 6, 4, 5])\n",
        "for i in range(0, len(arr1)//2):\n",
        "  arr1[i], arr1[len(arr1)-1-i] = arr1[len(arr1)-1-i], arr1[i]\n",
        "print(arr1)"
      ]
    },
    {
      "cell_type": "code",
      "source": [
        "import numpy as np\n",
        "arr1 = np.array([[1, 2], [3, 4]])\n",
        "arr2 = np.array([[1, 2], [3, 4]])\n",
        "if np.array_equal(arr1, arr2):\n",
        "  print(\"Arrays are equal\")\n",
        "else:\n",
        "  print(\"Arrays are not equal\")"
      ],
      "metadata": {
        "colab": {
          "base_uri": "https://localhost:8080/"
        },
        "id": "MAXdRoqEsOde",
        "outputId": "82fdedcb-386f-41f1-d774-4cc78e7b1125"
      },
      "execution_count": 2,
      "outputs": [
        {
          "output_type": "stream",
          "name": "stdout",
          "text": [
            "Arrays are equal\n"
          ]
        }
      ]
    }
  ]
}
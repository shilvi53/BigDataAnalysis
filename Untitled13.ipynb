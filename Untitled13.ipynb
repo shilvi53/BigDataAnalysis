{
  "nbformat": 4,
  "nbformat_minor": 0,
  "metadata": {
    "colab": {
      "provenance": [],
      "authorship_tag": "ABX9TyMbu9EqwLD4GtqKHp0Yhs1a",
      "include_colab_link": true
    },
    "kernelspec": {
      "name": "python3",
      "display_name": "Python 3"
    },
    "language_info": {
      "name": "python"
    }
  },
  "cells": [
    {
      "cell_type": "markdown",
      "metadata": {
        "id": "view-in-github",
        "colab_type": "text"
      },
      "source": [
        "<a href=\"https://colab.research.google.com/github/shilvi53/BigDataAnalysis/blob/main/Untitled13.ipynb\" target=\"_parent\"><img src=\"https://colab.research.google.com/assets/colab-badge.svg\" alt=\"Open In Colab\"/></a>"
      ]
    },
    {
      "cell_type": "code",
      "execution_count": 2,
      "metadata": {
        "colab": {
          "base_uri": "https://localhost:8080/"
        },
        "id": "E0zyut870-BO",
        "outputId": "9e602d88-c673-4ed2-c165-4942c34d6e8c"
      },
      "outputs": [
        {
          "output_type": "stream",
          "name": "stdout",
          "text": [
            "   tid refund marital status taxable income cheat\n",
            "0    1    YES         single           125k    NO\n",
            "4    5     NO       divorced            95k   YES\n",
            "7    8     NO         single            85k   YES\n",
            "8    9     NO        married            75k    NO\n"
          ]
        }
      ],
      "source": [
        "import pandas as pd\n",
        "datafile={\n",
        "    \"tid\":[1,2,3,4,5,6,7,8,9,10],\n",
        "    \"refund\":[\"YES\",\"NO\",\"NO\",\"YES\",\"NO\",\"NO\",\"YES\",\"NO\",\"NO\",\"NO\"],\n",
        "    \"marital status\":[\"single\",\"married\",\"single\",\"married\",\"divorced\",\"married\",\"divorced\",\"single\",\"married\",\"single\"],\n",
        "    \"taxable income\":[\"125k\",\"100k\",\"70k\",\"120k\",\"95k\",\"60k\",\"220k\",\"85k\",\"75k\",\"90k\"],\n",
        "    \"cheat\":[\"NO\",\"NO\",\"NO\",\"NO\",\"YES\",\"NO\",\"NO\",\"YES\",\"NO\",\"YES\"]\n",
        "}\n",
        "myvar=pd.DataFrame(datafile)\n",
        "select=myvar.iloc[[0,4,7,8]]\n",
        "print(select)"
      ]
    }
  ]
}